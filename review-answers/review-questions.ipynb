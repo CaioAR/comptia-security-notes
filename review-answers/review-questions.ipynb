{
 "cells": [
  {
   "cell_type": "markdown",
   "id": "e1bfc88d",
   "metadata": {},
   "source": [
    "# Understanding Security Fundamentals\n",
    "\n",
    "**1 What are the three components of the CIA triad?**\n",
    "\n",
    "    Confidentialiy, integrity, availability\n",
    "    \n",
    "**2 Why might a CCTV camera be situated outside a building without any film inside?**\n",
    "\n",
    "    A camera could be used to deter an intruder.\n",
    "    \n",
    "**3 What does confidentiality mean?**\n",
    "    \n",
    "    The prevention of disclosure of data to unauthorized people.\n",
    "\n",
    "**4 How can we control access of personnel to a data center?**\n",
    "\n",
    "    Physical access controls.\n",
    "    \n",
    "**5 What is the purpose of an air gap?**\n",
    "    \n",
    "    The objective of an air gap is to ensure data is not stolen from a particular computer or network.\n",
    "\n",
    "**6 Name three main control categories**\n",
    "    \n",
    "**7 Name three physical controls.**\n",
    "    \n",
    "    1. Perimeter security \n",
    "    2. Building security\n",
    "    3. Device protection\n",
    "    \n",
    "**8. Following an incident, what type of control will be used when researching how the incident happened?**\n",
    "\n",
    "    Digital forensics\n",
    "    \n",
    "**9 How do I know whether the integrity of my data is intact?\n",
    "\n",
    "    Hashes should be used as a checksum to ensure data integrity.\n",
    "    \n",
    "**10 What is a corrective control?\n"
   ]
  },
  {
   "cell_type": "code",
   "execution_count": null,
   "id": "087ab1ff",
   "metadata": {},
   "outputs": [],
   "source": []
  }
 ],
 "metadata": {
  "kernelspec": {
   "display_name": "Python 3 (ipykernel)",
   "language": "python",
   "name": "python3"
  },
  "language_info": {
   "codemirror_mode": {
    "name": "ipython",
    "version": 3
   },
   "file_extension": ".py",
   "mimetype": "text/x-python",
   "name": "python",
   "nbconvert_exporter": "python",
   "pygments_lexer": "ipython3",
   "version": "3.8.10"
  }
 },
 "nbformat": 4,
 "nbformat_minor": 5
}
